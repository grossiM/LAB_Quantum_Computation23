{
 "cells": [
  {
   "cell_type": "markdown",
   "id": "2164f8da-5478-4336-b466-a2f3da6ac67a",
   "metadata": {},
   "source": [
    "## Lecture 1 - $18^{th}$ November 2024\n",
    "\n",
    "This notebook presentation is part of my lecture material for the Advanced Quantum Mechanics course at the University of Trieste. It contains a general introduction to Qiskit and Pennylane\n",
    "\n",
    "**Michele Grossi**, Coordinator of Hybrid Quantum Computing Infrastracture and Algorithms @ CERN\n"
   ]
  },
  {
   "cell_type": "markdown",
   "id": "a74f307f-c0cb-49b2-84cc-37d621630378",
   "metadata": {},
   "source": [
    "# Quantum Frameworks for near terms computation: Qiskit and Pennylane\n",
    "<br>\n",
    "<br>\n",
    "You can find a copy of this presentation at\n",
    "\n",
    "https://github.com/grossiM/LAB_Quantum_Computation24/tree/main\n",
    "\n",
    "michele.grossi@cern.ch"
   ]
  },
  {
   "cell_type": "markdown",
   "id": "6fb0b27f-e5d9-4031-b032-0d52df7cfa05",
   "metadata": {},
   "source": [
    "### Installing Qiskit 1.0.X and Pennylane\n",
    "\n",
    "Anaconda or a pyenv is recommended to manage all dependencies.\n",
    "The file environment.yml contains the required libraries and can be installed in this way:\n",
    "\n",
    "*Command:* `conda env create -f environment.yml`\n"
   ]
  },
  {
   "cell_type": "code",
   "execution_count": null,
   "id": "936fbacd-aafe-4307-bcaf-de2b6608cc1f",
   "metadata": {},
   "outputs": [],
   "source": [
    "# Install libraries if needed (uncomment if necessary)\n",
    "\n",
    "import qiskit\n",
    "from qiskit import QuantumCircuit\n",
    "from qiskit.visualization import plot_histogram\n",
    "import pennylane as qml\n",
    "from pennylane import numpy as np"
   ]
  },
  {
   "cell_type": "code",
   "execution_count": null,
   "id": "0e61b141-30e3-4533-94e6-51d47dc63823",
   "metadata": {},
   "outputs": [],
   "source": [
    "print(\"Qiskit version:\", qiskit.__version__)\n",
    "print(\"PennyLane version:\", qml.__version__)"
   ]
  },
  {
   "cell_type": "markdown",
   "id": "13553d1c-824c-4116-b90c-cfdc5e5f93a9",
   "metadata": {},
   "source": [
    "### 1. Introduction to Qiskit and PennyLane\n",
    "##### Overview of Each Library\n",
    "\n",
    "- **Qiskit**: Developed by IBM, Qiskit provides tools for designing, simulating, and executing quantum circuits on IBM quantum hardware (see https://docs.quantum.ibm.com/guides and https://www.ibm.com/quantum/ecosystem).\n",
    "- **PennyLane**: Created by Xanadu, PennyLane is a quantum machine learning library designed for hybrid quantum-classical computations. PennyLane supports backends like Qiskit, Cirq, and others, making it versatile for research in quantum machine learning (QML)."
   ]
  },
  {
   "cell_type": "markdown",
   "id": "9aecf692-a36f-4004-b5c4-06a31c45f403",
   "metadata": {},
   "source": [
    "| Features | Qiskit   | Pennylane   |\n",
    "|------|------|------|\n",
    "|   Primary Focus  | Circuit-based computations| Quantum machine learning, VQAs  |\n",
    "|ML Integration  | Not specialized for ML| Direct PyTorch and TensorFlow support  |\n",
    "|   Parameterized Gates  | \tSupported with Parameter API| Seamlessly integrates parameterized gates  |\n",
    "|   Supported Backends  | IBM hardware, QASM simulators| Multiple (Qiskit, Cirq, Rigetti, etc.)  |\n",
    "\n",
    "\t\t\t\t\t\t\t"
   ]
  },
  {
   "cell_type": "markdown",
   "id": "e2e0fc29-4772-4c55-a2d0-db87443fc901",
   "metadata": {},
   "source": [
    "#### Simple Circuit Comparison"
   ]
  },
  {
   "cell_type": "code",
   "execution_count": null,
   "id": "a2271e96-383d-4e9f-a7bc-87605af4995f",
   "metadata": {},
   "outputs": [],
   "source": [
    "# Qiskit Example: Single-Qubit Circuit with H-Gate\n",
    "qc = QuantumCircuit(1, 1)\n",
    "qc.h(0)\n",
    "qc.measure(0, 0)\n",
    "qc.draw(output='mpl')\n"
   ]
  },
  {
   "cell_type": "code",
   "execution_count": null,
   "id": "7aac34d9-d93f-4864-90f0-b6a99830cb68",
   "metadata": {},
   "outputs": [],
   "source": [
    "# PennyLane Example: Single-Qubit Circuit with H-Gate\n",
    "dev = qml.device(\"default.qubit\", wires=1)\n",
    "\n",
    "@qml.qnode(dev)\n",
    "def simple_circuit():\n",
    "    qml.Hadamard(wires=0)\n",
    "    return qml.probs(wires=0)\n",
    "\n",
    "simple_circuit()\n"
   ]
  },
  {
   "cell_type": "markdown",
   "id": "06a9a9f4-8623-4146-80ca-4ac06ad3ab50",
   "metadata": {},
   "source": [
    "#### Circuits vs quantum functions\n",
    "\n",
    "In most quantum SDKs there are dedicated primitives that implement *Quantum circuits*. You may recall that indeed, this was the case for IBM's Qiskit, where quantum algorithms are realized as specific circuit objects:"
   ]
  },
  {
   "cell_type": "code",
   "execution_count": null,
   "id": "f5741af7-9ff5-413e-a1e4-fab8c01e77bb",
   "metadata": {},
   "outputs": [],
   "source": [
    "from qiskit import QuantumCircuit\n",
    "import pennylane as qml\n",
    "from pennylane import numpy as np\n",
    "\n",
    "#import numpy as np\n",
    "thetas = np.array([0.1, 0.3, -1.6])\n",
    "\n",
    "qiskit_circ = QuantumCircuit(2)\n",
    "\n",
    "for t in thetas:\n",
    "    qiskit_circ.x(0)\n",
    "    qiskit_circ.ry(t.item(), 1)\n",
    "    qiskit_circ.cz(0, 1)\n",
    "\n",
    "qiskit_circ.measure_all()\n",
    "\n",
    "qiskit_circ.draw(\"mpl\")"
   ]
  },
  {
   "cell_type": "markdown",
   "id": "df447522-6562-476d-9d6d-c81f487b513d",
   "metadata": {},
   "source": [
    "While this approach is straight-forward to understand, makes handling parameterizations more cumbersome than really needed. What if I want to change the numerical value of $\\theta$? This would either require the creation of a new circuit, or usage of more complicated abstractions, which can make our code hard to develop. We will see it in the next lecture. "
   ]
  },
  {
   "cell_type": "markdown",
   "id": "944e804c-ebed-4ce6-9fc6-9224ce92a763",
   "metadata": {},
   "source": [
    "In **Qiskit**, circuits are built with gate methods `(qc.h, qc.measure)`, while in **PennyLane**, a circuit is defined as a Python function annotated with `@qml.qnode`."
   ]
  },
  {
   "cell_type": "markdown",
   "id": "b9ff3cf0-2acd-4288-b1cb-fed996a98d87",
   "metadata": {},
   "source": [
    "A more natural approach for this specific use-case is to implement circuits as special kinds of **functions**, which are called quantum functions. In pennylane, quantum functions are implemented simply as Python functions, and evaluation of quantum functions are linked to the estimation of the circuit output specified during the definition.\n",
    "\n",
    "#### Devices and Quantum Nodes\n",
    "\n",
    "Quantum functions alone, just as quantum circuits, are only an abstract description of the quantum algorithm, and are not enough to acutally perform computations. For that, we need *devices*. In pennylane, a device represents an entity able to execute quantum functions, be it a simulator or a real quantum device.\n",
    "\n",
    "Thanks to the large amout of interfaces and plugins that this environment provides (https://pennylane.ai/plugins/) code written in pennylane can run almost on all quantum simulator (ideal, noisy, tensor-network based etc..) and even real devices (including IBM public machines!). Of course, each device has its own peculiarity and must be configured with care. \n",
    "\n",
    "Today we'll focus on the simplest one, i.e. `deafult.qubit`."
   ]
  },
  {
   "cell_type": "markdown",
   "id": "54d6f989-dad1-487b-a8ce-6a2523220cd2",
   "metadata": {},
   "source": [
    "## 2. Create Bell state\n",
    "\n",
    "A *Bell state*, also known as an *EPR pair* (Einstein-Podolsky-Rosen pair), is a specific two-qubit state which is maximally entangled. Entanglement is another important phenomenon, which characterizes a quantum system, where the quantum states of two or more particles become correlated in such a way that the state of one particle cannot be described independently of the other, regardless of the distance between them.\n",
    "\n",
    "On the quantum circuit, Bell state can be created by applying a set of quantum states to the initial state $|00\\rangle$ :\n",
    "\n",
    "$$\n",
    "\\begin{align}\n",
    "& \\text{Initial State} = |00\\rangle \\nonumber \\\\ \\to & H_0|00\\rangle  = \\frac{1}{\\sqrt{2}} (|00\\rangle + |10\\rangle) \\nonumber \\\\\n",
    "\\to & CNOT_{01}  \\frac{1}{\\sqrt{2}} (|00\\rangle + |10\\rangle) = \\frac{1}{\\sqrt{2}} (|00\\rangle + |11\\rangle)\n",
    "\\end{align}$$  \n",
    "\n",
    "#### Pennylane"
   ]
  },
  {
   "cell_type": "code",
   "execution_count": null,
   "id": "a79f94b2-371d-4a2d-8959-fe07c2bffbdd",
   "metadata": {},
   "outputs": [],
   "source": [
    "import pennylane as qml\n",
    "from pennylane import numpy as np\n",
    "\n",
    "# Define a device with 2 qubits\n",
    "dev = qml.device(\"default.qubit\", wires=2)\n",
    "\n",
    "# Define the quantum node\n",
    "@qml.qnode(dev)\n",
    "def bell_state_circuit():\n",
    "    # Create the Bell state\n",
    "    qml.Hadamard(wires=0)         # Apply Hadamard gate on the first qubit\n",
    "    qml.CNOT(wires=[0, 1])        # Entangle with a CNOT gate\n",
    "    \n",
    "    # Return the state vector\n",
    "    return qml.state()\n",
    "\n",
    "# Execute the circuit\n",
    "state = bell_state_circuit()\n",
    "\n",
    "# Display the result\n",
    "print(\"State vector of the Bell state:\")\n",
    "print(state)\n"
   ]
  },
  {
   "cell_type": "markdown",
   "id": "5a6570fd-c96d-449d-8a19-9efb3686ee11",
   "metadata": {},
   "source": [
    "**Simulating Measurement Outcomes**"
   ]
  },
  {
   "cell_type": "code",
   "execution_count": null,
   "id": "8f44e67f-774b-4e72-883d-4d46d3d0ac07",
   "metadata": {},
   "outputs": [],
   "source": [
    "from collections import Counter\n",
    "\n",
    "# Define a device with 2 qubits and set shots\n",
    "num_shots = 1000\n",
    "dev = qml.device(\"default.qubit\", wires=2, shots=num_shots)\n",
    "\n",
    "# Define a quantum node to measure in the computational basis\n",
    "@qml.qnode(dev)\n",
    "def bell_state_measurement():\n",
    "    qml.Hadamard(wires=0)\n",
    "    qml.CNOT(wires=[0, 1])\n",
    "    return qml.sample(wires=[0, 1])  # Measure both qubits\n",
    "\n",
    "# Execute the circuit\n",
    "samples = bell_state_measurement()\n",
    "\n",
    "# Count the outcomes\n",
    "counts = Counter(map(tuple, samples))\n",
    "print(f\"Measurement counts after {num_shots} shots:\")\n",
    "print(counts)\n",
    "\n"
   ]
  },
  {
   "cell_type": "markdown",
   "id": "6f70df3c-e607-4073-9acc-7e8d22b35dde",
   "metadata": {},
   "source": [
    "#### Qiskit"
   ]
  },
  {
   "cell_type": "code",
   "execution_count": null,
   "id": "54171a7a-7d88-4bde-8ccd-6f0108350615",
   "metadata": {},
   "outputs": [],
   "source": [
    "from qiskit import QuantumCircuit\n",
    "from qiskit.quantum_info import SparsePauliOp\n",
    "from qiskit.transpiler.preset_passmanagers import generate_preset_pass_manager\n",
    "from qiskit_ibm_runtime import QiskitRuntimeService, EstimatorV2 as Estimator\n",
    " \n",
    "# Create a new circuit with two qubits (first argument) and two classical\n",
    "# bits (second argument)\n",
    "qc = QuantumCircuit(2)\n",
    " \n",
    "# Add a Hadamard gate to qubit 0\n",
    "qc.h(0)\n",
    " \n",
    "# Perform a controlled-X gate on qubit 1, controlled by qubit 0\n",
    "qc.cx(0, 1)\n",
    " \n",
    "# Return a drawing of the circuit using MatPlotLib (\"mpl\"). This is the\n",
    "# last line of the cell, so the drawing appears in the cell output.\n",
    "# Remove the \"mpl\" argument to get a text drawing.\n",
    "qc.draw(\"mpl\")"
   ]
  },
  {
   "cell_type": "markdown",
   "id": "b16ed92d-c1ff-4bf8-83c8-63e1376b63e4",
   "metadata": {},
   "source": [
    "You can use local testing mode with simulators from` Qiskit Aer`, which provides higher-performance simulation that can handle larger circuits and custom noise models. It also supports `Clifford` simulation mode, which can efficiently simulate Clifford circuits with a large number of qubits."
   ]
  },
  {
   "cell_type": "code",
   "execution_count": null,
   "id": "7bc76ec4-18ab-4e27-aa2e-0cb93b858c34",
   "metadata": {},
   "outputs": [],
   "source": [
    "from qiskit_aer import AerSimulator\n",
    "# Print all the available quantum simulators\n",
    "simulator = AerSimulator()"
   ]
  },
  {
   "cell_type": "code",
   "execution_count": null,
   "id": "8e21108d-57c1-4575-8a30-e94383bae8d9",
   "metadata": {},
   "outputs": [],
   "source": [
    "simulator.available_methods()"
   ]
  },
  {
   "cell_type": "code",
   "execution_count": null,
   "id": "cd71dfaf-adf1-4a10-b9cc-2006a603f822",
   "metadata": {},
   "outputs": [],
   "source": [
    "from qiskit.compiler import transpile\n",
    "qc.save_statevector()\n",
    "transp_qc = transpile(qc, simulator)\n",
    "\n",
    "# Run and get statevector\n",
    "result = simulator.run(transp_qc).result()"
   ]
  },
  {
   "cell_type": "code",
   "execution_count": null,
   "id": "eabe80d1-a2fe-4fd1-9a2e-fbfcf29a92cc",
   "metadata": {},
   "outputs": [],
   "source": [
    "state = result.get_statevector(transp_qc)\n",
    "print(state)"
   ]
  },
  {
   "cell_type": "markdown",
   "id": "7b41ed5d-1451-45eb-9fec-f520193191d8",
   "metadata": {},
   "source": [
    "#### Visualization of the state\n",
    "Multi-qubit states can be visualized with the methods other than the bloch sphere.  \n",
    "- `plot_state_city` : Displays the quantum states as the real and imaginary parts of the state matrix.\n",
    "- `plot_state_hinton` : Sampe as `plot_state_city`, but as a 2D colour plot.\n",
    "- `plot_state_qsphere` : Display the quantum state as a vector on a spherical ball. The thickness of the arrow corresponds to the amplitude of the state, and its color to the phase."
   ]
  },
  {
   "cell_type": "code",
   "execution_count": null,
   "id": "062a5dbc-ca72-4070-968d-d32a162b24fb",
   "metadata": {},
   "outputs": [],
   "source": [
    "from qiskit.visualization import plot_state_city, plot_state_hinton, plot_state_qsphere, \\\n",
    "                                 plot_histogram\n",
    "\n",
    "plot_state_city(state, title='Bell state')"
   ]
  },
  {
   "cell_type": "code",
   "execution_count": null,
   "id": "18099e7b-4891-4a1b-aaa1-357f089c95b7",
   "metadata": {},
   "outputs": [],
   "source": [
    "plot_state_hinton(state)"
   ]
  },
  {
   "cell_type": "code",
   "execution_count": null,
   "id": "ba3d9207-a077-42f8-8077-ef6bc0adccd5",
   "metadata": {},
   "outputs": [],
   "source": [
    "#seaborn package required\n",
    "#plot_state_qsphere(state2)"
   ]
  },
  {
   "cell_type": "markdown",
   "id": "d436584c-3727-4785-816a-511d639ca41e",
   "metadata": {},
   "source": [
    "**Simulate with Unitary simulator**"
   ]
  },
  {
   "cell_type": "code",
   "execution_count": null,
   "id": "acc315af-5887-4cec-aa20-00e617ddc01c",
   "metadata": {},
   "outputs": [],
   "source": [
    "# Construct quantum circuit without measure\n",
    "bell = QuantumCircuit(2)\n",
    "bell.h(0)\n",
    "bell.cx(0, 1)\n",
    "bell.save_unitary()\n",
    "\n",
    "# Run the quantum circuit on a unitary simulator backend\n",
    "backend = AerSimulator(method = 'unitary')\n",
    "\n",
    "# Create job and execute\n",
    "job2 = backend.run(bell)\n",
    "result2 = job2.result()\n",
    "\n",
    "# Show the results\n",
    "print(result2.get_unitary(bell, decimals=3))"
   ]
  },
  {
   "cell_type": "markdown",
   "id": "27d247f6-6d26-40ab-b51f-6d470b383e44",
   "metadata": {},
   "source": [
    "#### Simulate with Qasm simulator\n",
    "\n",
    "Until now on, we simulated the quantum circuit. However in reality, we do not have direct access to the quantum state. Instead, each qubit should be *measured* at the end of the quantum circuit in specific basis (generally in the computational basis $|0\\rangle, |1\\rangle$). As soon as the quantum system is measured, the state $|\\psi\\rangle$ *collapses* to the measurement basis $|b\\rangle$ with a probability :\n",
    "$$\n",
    "P(b) == |\\langle b | \\psi \\rangle |^2.\n",
    "$$\n",
    "Unlike the previous steps, we need to add `ClassicalRegister` to measure the quantum circuit.\n",
    "All customization here: https://qiskit.github.io/qiskit-aer/tutorials/1_aersimulator.html"
   ]
  },
  {
   "cell_type": "code",
   "execution_count": null,
   "id": "895b9812-a26a-4548-8e69-ed6375ccaa56",
   "metadata": {},
   "outputs": [],
   "source": [
    "# Construct quantum circuit without measure\n",
    "bell = QuantumCircuit(2)\n",
    "bell.h(0)\n",
    "bell.cx(0, 1)\n",
    "# Measure qubits\n",
    "bell.measure_all()\n",
    "\n",
    "bell.draw(output = 'mpl')"
   ]
  },
  {
   "cell_type": "markdown",
   "id": "8f9b7d17-aeb7-4278-930f-a39a09b10bb1",
   "metadata": {},
   "source": [
    "### ALL methods together\n",
    "Simulation Method Option\n",
    "The simulation method is set using the method kwarg. A list supported simulation methods can be returned using available_methods(), these are\n",
    "\n",
    "1- `automatic`: Default simulation method. Select the simulation method automatically based on the circuit and noise model.\n",
    "\n",
    "2 - `statevector`: A dense statevector simulation that can sample measurement outcomes from ideal circuits with all measurements at end of the circuit. For noisy simulations each shot samples a randomly sampled noisy circuit from the noise model.\n",
    "\n",
    "3 - `density_matrix`: A dense density matrix simulation that may sample measurement outcomes from noisy circuits with all measurements at end of the circuit.\n",
    "\n",
    "4 - `stabilizer`: An efficient Clifford stabilizer state simulator that can simulate noisy Clifford circuits if all errors in the noise model are also Clifford errors.\n",
    "\n",
    "5 - `extended_stabilizer`: An approximate simulated for Clifford + T circuits based on a state decomposition into ranked-stabilizer state. The number of terms grows with the number of non-Clifford (T) gates.\n",
    "\n",
    "6 - `matrix_product_state`: A tensor-network statevector simulator that uses a Matrix Product State (MPS) representation for the state. This can be done either with or without truncation of the MPS bond dimensions depending on the simulator options. The default behaviour is no truncation.\n",
    "\n",
    "7 - `unitary`: A dense unitary matrix simulation of an ideal circuit. This simulates the unitary matrix of the circuit itself rather than the evolution of an initial quantum state. This method can only simulate gates, it does not support measurement, reset, or noise.\n",
    "\n",
    "8 - `superop`: A dense superoperator matrix simulation of an ideal or noisy circuit. This simulates the superoperator matrix of the circuit itself rather than the evolution of an initial quantum state. This method can simulate ideal and noisy gates, and reset, but does not support measurement."
   ]
  },
  {
   "cell_type": "code",
   "execution_count": null,
   "id": "7e380b3d-c8ee-414f-96a9-72959ae1f4be",
   "metadata": {},
   "outputs": [],
   "source": [
    "# Create circuit\n",
    "circ = QuantumCircuit(2)\n",
    "circ.h(0)\n",
    "circ.cx(0, 1)\n",
    "circ.measure_all()\n",
    "\n",
    "\n",
    "# Increase shots to reduce sampling variance\n",
    "shots = 10000\n",
    "\n",
    "\n",
    "\n",
    "# Statevector simulation method\n",
    "sim_statevector = AerSimulator(method='statevector')\n",
    "job_statevector = sim_statevector.run(circ, shots=shots)\n",
    "counts_statevector = job_statevector.result().get_counts(0)\n",
    "\n",
    "# Stabilizer simulation method\n",
    "sim_stabilizer = AerSimulator(method='stabilizer')\n",
    "job_stabilizer = sim_stabilizer.run(circ, shots=shots)\n",
    "counts_stabilizer = job_stabilizer.result().get_counts(0)\n",
    "\n",
    "\n",
    "# Extended Stabilizer method\n",
    "sim_extstabilizer = AerSimulator(method='extended_stabilizer')\n",
    "job_extstabilizer = sim_extstabilizer.run(circ, shots=shots)\n",
    "counts_extstabilizer = job_extstabilizer.result().get_counts(0)\n",
    "\n",
    "# Density Matrix simulation method\n",
    "sim_density = AerSimulator(method='density_matrix')\n",
    "job_density = sim_density.run(circ, shots=shots)\n",
    "counts_density = job_density.result().get_counts(0)\n",
    "\n",
    "# Matrix Product State simulation method\n",
    "sim_mps = AerSimulator(method='matrix_product_state')\n",
    "job_mps = sim_mps.run(circ, shots=shots)\n",
    "counts_mps = job_mps.result().get_counts(0)\n",
    "\n",
    "\n",
    "plot_histogram([ counts_statevector,counts_stabilizer ,counts_extstabilizer, counts_density, counts_mps],\n",
    "               title='Counts for different simulation methods',\n",
    "               legend=[ 'statevector',\n",
    "                       'density_matrix','stabilizer','extended_stabilizer', 'matrix_product_state'])"
   ]
  },
  {
   "cell_type": "markdown",
   "id": "2013868c-4e82-487d-afb3-cb9d436be908",
   "metadata": {},
   "source": [
    "#### Extra: some additional functions"
   ]
  },
  {
   "cell_type": "code",
   "execution_count": null,
   "id": "6621bc00-c1ea-4d85-a674-6d7568c678a6",
   "metadata": {},
   "outputs": [],
   "source": [
    "#Import the random circuit class\n",
    "from qiskit.circuit.random import random_circuit\n",
    "#Create two random circuits, each with 2 qubit registers and random #gate operator counts.\n",
    "qc1 = random_circuit(2,2)\n",
    "qc2 = random_circuit(2,4)\n",
    "#Concatenate the two random circuits\n",
    "qc = qc1.compose(qc2)\n",
    "#Draw the circuit\n",
    "qc.draw('mpl')"
   ]
  },
  {
   "cell_type": "code",
   "execution_count": null,
   "id": "34d2dea2-da41-41bf-9271-e65744dc3fa9",
   "metadata": {},
   "outputs": [],
   "source": [
    "#Define function to print circuit properties:\n",
    "def print_circuit_props(qc):\n",
    "    width = qc.width()\n",
    "    depth = qc.depth()\n",
    "    num_operators = qc.count_ops()\n",
    "    circuit_size = qc.size()\n",
    "    print('Width = ',width) \n",
    "    print('Depth = ', depth)\n",
    "    print('Circuit size = ',circuit_size)\n",
    "    print('Number of operators = ', num_operators)"
   ]
  },
  {
   "cell_type": "code",
   "execution_count": null,
   "id": "1cb46619-bcfc-4c81-ace9-012e870f06ed",
   "metadata": {},
   "outputs": [],
   "source": [
    "#Pass our quantum circuit to print out the circuit properties\n",
    "print_circuit_props(qc)"
   ]
  },
  {
   "cell_type": "code",
   "execution_count": null,
   "id": "89da32e9-76a7-4864-b53a-d172d662963d",
   "metadata": {},
   "outputs": [],
   "source": [
    "qc = QuantumCircuit(3)\n",
    "qc.ccx(0,1,2)\n",
    "#Print out the circuit properties\n",
    "print_circuit_props(qc)\n",
    "qc.draw('mpl')"
   ]
  },
  {
   "cell_type": "code",
   "execution_count": null,
   "id": "860ff9b2-a450-44d2-9087-f2bd63c2d143",
   "metadata": {},
   "outputs": [],
   "source": [
    "qc.decompose().draw('mpl')"
   ]
  },
  {
   "cell_type": "code",
   "execution_count": null,
   "id": "27456ebc-ae88-4fe5-b101-fa13d063e50d",
   "metadata": {},
   "outputs": [],
   "source": [
    "#Print out the circuit properties\n",
    "print_circuit_props(qc.decompose())"
   ]
  },
  {
   "cell_type": "markdown",
   "id": "a56923de-4daf-4460-a56d-cd3e453f9a4f",
   "metadata": {},
   "source": [
    "## 3. Basics of Quantum Mechanics on Gate-Based Circuits\n",
    "In this section, we’ll dive deeper into the fundamental concepts of **pure states** and **mixed states**, how to work with them in code, and explore properties like **purity**, **entropy** and **partial trace**. We’ll also demonstrate how to verify if an operation is unitary.\n",
    "\n",
    "### Overview of Quantum States\n",
    "\n",
    "State-vector notation  is convenient when dealing with states that can always be expressed as a linear combination of basis states, each with an associated probability amplitude. The definition of the state of our qubits cannot always be written down as linear combinations in a given basis, sometimes it must be expressed in terms of ensembles (statistical mixtures) of multiple states (noise), each with an associated probability of occurrence. The adopted formulation is the `density matrix`. \n",
    "In the following we will review this formulation for ***pure state***, **mixed state** and we introduce the concept of **state purity** and ***partial trace***."
   ]
  },
  {
   "cell_type": "markdown",
   "id": "77233961-1ea4-42f1-8d2b-00e803b0d136",
   "metadata": {},
   "source": [
    "#### Pure State\n",
    "Pure states are those for which we can precisely define their quantum state at every point in time and the measurement outcome will be probabilistic with no uncertainty on what this quantum state will be.\n",
    "For example, if we initialize the single qubit $|q \\rangle $ in state $ | 0 \\rangle $, and apply a Hadamard gate, we know our final state will be:\n",
    "\n",
    "$$ \n",
    "| q \\rangle = \\frac{1}{\\sqrt{2}} \\left( | 0 \\rangle  + | 1 \\rangle  \\right) = \\frac{1}{\\sqrt{2}} \\begin{bmatrix} 1 \\\\ 1 \\end{bmatrix} = | + \\rangle \n",
    "$$\n",
    "In general, we know that in the conventional state vector notation, an $n$-qubit pure state can be expressed as:\n",
    "\n",
    "$$ | \\psi \\rangle = \\begin{bmatrix} \\alpha_0 \\\\ \\alpha_1 \\\\ \\vdots \\\\ \\alpha_{N-1} \\end{bmatrix}, $$\n",
    "\n",
    "where $ N = 2^{n} $. An alternative way to express this pure quantum state is in the form of a matrix. This can be done by using the density operator representation, which is defined as:\n",
    "\n",
    "$$ \\rho \\equiv  | \\psi \\rangle \\langle \\psi | $$\n",
    "\n",
    "Here, the term $| \\psi \\rangle \\langle \\psi | $ represents the [outer product](../ch-gates/proving-universality.ipynb#outer) of the state $ \\psi $ with itself:\n",
    "\n",
    "\n",
    "$$ \n",
    "\\begin{aligned}\n",
    "& \\rho = \\begin{bmatrix} \\alpha_0 \\\\ \\alpha_1 \\\\ \\vdots \\\\ \\alpha_N \\end{bmatrix} \\begin{bmatrix} \\alpha_0^* & \\alpha_1^* & \\dots & \\alpha_N^* \\end{bmatrix} \n",
    "\\\\\n",
    "\\\\\n",
    "& \\rho = \\begin{bmatrix} |\\alpha_0|^2 & \\alpha_0 \\alpha_1^* & \\dots & \\alpha_0 \\alpha_N^* \\\\ \\alpha_1 \\alpha_0^* & |\\alpha_1|^2 & \\dots & \\alpha_1 \\alpha_N^* \\\\ \\vdots & \\vdots & \\ddots & \\vdots \\\\ \\alpha_N \\alpha_0^* & \\alpha_N \\alpha_1^* & \\dots & |\\alpha_N|^2 \\end{bmatrix}\n",
    "\\end{aligned}\n",
    "$$\n",
    "\n",
    "\n",
    "Let's consider, for example, the following two-qubit, maximally-entangled pure state:\n",
    "\n",
    "$$ | \\psi_{AB} \\rangle = \\frac{1}{\\sqrt{2}} \\left ( | 0 0 \\rangle + | 1 1 \\rangle \\right ) = \\frac{1}{\\sqrt{2}} \\begin{bmatrix} 1 \\\\ 0 \\\\ 0 \\\\ 1 \\end{bmatrix} \n",
    "$$\n",
    "\n",
    "\n",
    "The density matrix representation for this state is then given by:\n",
    "\n",
    "$$ \n",
    "\\begin{aligned}\n",
    "& \\rho_{AB}  = | \\psi_{AB} \\rangle \\langle \\psi_{AB} |\n",
    "\\\\\n",
    "\\\\\n",
    "& \\rho_{AB} = \\left ( \\frac{1}{\\sqrt{2}} \\begin{bmatrix} 1 \\\\ 0 \\\\ 0 \\\\ 1 \\end{bmatrix} \\right ) \\left ( \\frac{1}{\\sqrt{2}} \\begin{bmatrix} 1 & 0 & 0 & 1 \\end{bmatrix} \\right )\n",
    "\\\\\n",
    "\\\\\n",
    "& \\rho_{AB} = \\frac{1}{2} \\begin{bmatrix} 1 & 0 & 0 & 1 \\\\ 0 & 0 & 0 & 0 \\\\ 0 & 0 & 0 & 0 \\\\ 1 & 0 & 0 & 1 \\\\ \\end{bmatrix}\n",
    "\\end{aligned}\n",
    "$$\n",
    "\n",
    "\n",
    "In Qiskit, we can use the ``quantum_info`` module to represent quantum states either in state vector notation, or in the density matrix representation. For convenience, we will import this module as ``qi``:"
   ]
  },
  {
   "cell_type": "code",
   "execution_count": null,
   "id": "09ed2c52-f373-4c11-ba59-1e9aa5a671a1",
   "metadata": {},
   "outputs": [],
   "source": [
    "from qiskit import QuantumCircuit\n",
    "import qiskit.quantum_info as qi"
   ]
  },
  {
   "cell_type": "markdown",
   "id": "1160fd75-55c9-4b33-a07d-11bc21ad1a55",
   "metadata": {},
   "source": [
    "Let's once again consider the entangled pure state $| \\psi_{AB} \\rangle $. We can prepare this state by applying a Hadamard gate to the first qubit, and an CNOT between the first and second qubits:"
   ]
  },
  {
   "cell_type": "code",
   "execution_count": null,
   "id": "afaef884-9b40-4c19-b7fe-152c8f21a971",
   "metadata": {},
   "outputs": [],
   "source": [
    "qc_AB = QuantumCircuit(2)\n",
    "qc_AB.h(0)\n",
    "qc_AB.cx(0,1)\n",
    "qc_AB.draw('mpl')"
   ]
  },
  {
   "cell_type": "markdown",
   "id": "9ee42416-ad8d-4f3a-98e6-59082e440ae1",
   "metadata": {},
   "source": [
    "To obtain the state constructed by our ``QuantumCircuit`` in state vector notation, we can make use of the ``Statevector.from_instruction()`` class method from the ``quantum_info`` module as follows:"
   ]
  },
  {
   "cell_type": "code",
   "execution_count": null,
   "id": "060b1ad0-c6f3-4b5a-8d33-0ceb9c0d5b98",
   "metadata": {},
   "outputs": [],
   "source": [
    "psi_AB = qi.Statevector.from_instruction(qc_AB)\n",
    "psi_AB.draw('latex', prefix='|\\\\psi_{AB}\\\\rangle = ')"
   ]
  },
  {
   "cell_type": "markdown",
   "id": "3aa93cf0-5aca-47ef-a0d2-83de92481668",
   "metadata": {},
   "source": [
    "Similarly, we can use the ``DensityMatrix.from_instruction()`` class method to obtain density matrix representation for this same state:"
   ]
  },
  {
   "cell_type": "code",
   "execution_count": null,
   "id": "01630d1f-cb08-4d50-8e97-803079f885c3",
   "metadata": {},
   "outputs": [],
   "source": [
    "rho_AB = qi.DensityMatrix.from_instruction(qc_AB)\n",
    "rho_AB.draw('latex', prefix='\\\\rho_{AB} = ')"
   ]
  },
  {
   "cell_type": "markdown",
   "id": "4671ed6d-e2b2-43dd-bd03-1ee8f8251d45",
   "metadata": {},
   "source": [
    "### Mixed States <a id=\"mixed\"></a>\n",
    "\n",
    "Mixed states are those that consist of statistical ensembles of different quantum states.\n",
    "\n",
    "Consider, once again, the two-qubit entangled state:\n",
    "\n",
    "$$ | \\psi_{AB} \\rangle = \\frac{1}{\\sqrt{2}} \\left ( | 0_A 0_B \\rangle + | 1_A 1_B \\rangle \\right ) $$\n",
    "\n",
    "Here we have explicitly used the subscripts $A$ and $B$ to label the qubits associated with registers $q_1$ and $q_0$, respectively. Now, let's assume that right after preparing our state $| \\psi_{AB} \\rangle $ we perform a measurement on register $q_1$.\n",
    "\n",
    "\n",
    "We know that after a measurement, $\\psi_B$ will be in state $| 0_B \\rangle $ with probability $1/2$, or in state $| 1_B \\rangle $ with probability $1/2$; however, $\\psi_B$ is **not** in a linear superposition of $| 0_B \\rangle $ and $| 1_B \\rangle $. In other words, $\\psi_B$ **cannot** be expressed as a state vector of the form $1/\\sqrt{2} \\left (|0_B \\rangle + | 1_B \\rangle \\right)$. Instead, we have to use a different notation to write down that $\\psi_B$ is rather an ensemble (not a quantum superposition) of the states $| 0_B \\rangle $ and $| 1_B \\rangle $, and whose outcome depends on what we measure on register $q_1$. \n",
    "\n",
    "We then call $\\psi_B$ a mixed state, which can be represented as an ensemble of states:\n",
    "\n",
    "$$\n",
    "\\left \\{| \\psi_{B_0} \\rangle , | \\psi_{B_1} \\rangle \\right \\} = \\left \\{ | 0_B \\rangle , | 1_B \\rangle \\right \\},\n",
    "$$ \n",
    "\n",
    "each with an associated probability of occurrence:\n",
    "\n",
    "$$ \\left \\{ p_0, p_1 \\right \\} = \\left \\{ 1/2, 1/2 \\right \\} $$\n",
    "\n",
    "Although this way of expressing $\\psi_B$ (or any general mixed state) is perfectly valid, it turns out to be somewhat inconvenient. Since a mixed state can consist of a myriad of pure states, it can be difficult to track how the whole ensemble evolves when, for example, gates are applied to it. It is here that we turn to the density matrix representation.\n",
    "\n",
    "A mixed state, consisting of several possible outcome pure states $|\\psi_j \\rangle$ , each with probability of occurrence $p_j$, is defined as a density matrix of the form:\n",
    "\n",
    "$$ \\rho \\equiv \\sum_{j} p_j |\\psi_j \\rangle \\langle \\psi_j | $$\n",
    "\n",
    "It is easy to see that this general definition of the density matrix also holds for pure states, for which we will only have one $ |\\psi_j \\rangle $ term with $p_j = 1$."
   ]
  },
  {
   "cell_type": "markdown",
   "id": "5fc8b933-e9bc-4020-9fdf-b36c214fccd9",
   "metadata": {},
   "source": [
    "#### Pure vs. Mixed States: Theory Recap\n",
    "\n",
    "* Pure State: A state that can be represented by a single vector in a Hilbert space, often written as $|\\psi\\rangle$. The state is described completely by this vector, and its density matrix is $ \\rho = | \\psi \\rangle \\langle \\psi | $, where $Tr (\\rho^{2})=1 $.\n",
    "* Mixed State: A statistical ensemble of pure states, described by a density matrix. Mixed states cannot be represented by a single vector, and their density matrices satisfy $Tr (\\rho^{2})< 1 $."
   ]
  },
  {
   "cell_type": "markdown",
   "id": "9b17e1ce-69e8-44a5-a806-12f6c9f0c6fc",
   "metadata": {},
   "source": [
    "#### Working with Pure and Mixed States in Code\n",
    "\n",
    "First, let's create a pure state and a mixed state in Qiskit. Then, we’ll explore how to analyze their properties, including calculating the **entropy** and **partial trace**."
   ]
  },
  {
   "cell_type": "markdown",
   "id": "ce8574da-41f4-4282-8321-0c7c7307c733",
   "metadata": {},
   "source": [
    "**Pure state example**\n",
    "In this example, we’ll create a pure state using the Hadamard gate."
   ]
  },
  {
   "cell_type": "code",
   "execution_count": null,
   "id": "333108a3-bb40-413f-a02d-29ae1f7a83d4",
   "metadata": {},
   "outputs": [],
   "source": [
    "from qiskit import QuantumCircuit\n",
    "from qiskit.quantum_info import Statevector, partial_trace, entropy, DensityMatrix\n",
    "\n",
    "# Initialize a single-qubit pure state\n",
    "pure_circuit = QuantumCircuit(1)\n",
    "pure_circuit.h(0)  # Apply H-gate to create a superposition (pure state)\n",
    "state = Statevector.from_instruction(pure_circuit)\n",
    "print(\"Statevector for pure state:\")\n",
    "print(state)  # Should show a superposition state\n"
   ]
  },
  {
   "cell_type": "markdown",
   "id": "6a28818c-7ca3-4eb3-a2b5-7acd4e165fba",
   "metadata": {},
   "source": [
    "**Mixed State Example**\n",
    "\n",
    "A mixed state can be created by preparing a system in different pure states probabilistically or by applying a random measurement."
   ]
  },
  {
   "cell_type": "code",
   "execution_count": null,
   "id": "67102783-79b0-4f56-9806-ff6f9778bbf3",
   "metadata": {},
   "outputs": [],
   "source": [
    "# Define a circuit for a mixed state by resetting and measuring\n",
    "mixed_circuit = QuantumCircuit(1)\n",
    "mixed_circuit.h(0)\n",
    "mixed_circuit.reset(0)  # Resetting qubit creates a probabilistic mixture\n",
    "\n",
    "print(\"Density matrix for mixed state:\")\n",
    "print(DensityMatrix(mixed_circuit))"
   ]
  },
  {
   "cell_type": "markdown",
   "id": "531581f8-7307-4669-9f73-05ed21903729",
   "metadata": {},
   "source": [
    "**Measuring Properties of Pure and Mixed States**\n",
    "\n",
    "Let’s calculate some key properties like **purity**, **entropy** and **partial trace** for both states."
   ]
  },
  {
   "cell_type": "markdown",
   "id": "ab76b702-dd59-43cd-a96c-498dac7d5e81",
   "metadata": {},
   "source": [
    "### State Purity <a id=\"trace_sqr\"></a>\n",
    "\n",
    "A very useful property of the density matrix is that when taking the trace $\\text{Tr}$ of its square $\\rho^{2}$, we obtain a scalar value $\\gamma$ that is good measure of the purity of the state the matrix represents. For normalized states, this value is always less than or equal to 1, with the equality occurring for the case of a pure state:\n",
    "\n",
    "$$ \\gamma \\equiv \\text{Tr}(\\rho^{2}) \\leq 1 $$\n",
    "\n",
    "$$ \\gamma \\equiv \\text{Tr}(\\rho^{2}) = 1 \\; \\text{if pure} $$\n",
    "\n",
    "In Qiskit, we can easily extract the purity of a density matrix by using the `purity()` class method. For example, for the pure state $| + \\rangle$, we should expect to see a purity of 1:"
   ]
  },
  {
   "cell_type": "code",
   "execution_count": null,
   "id": "9b8cb284-7713-42d3-87d6-a269152ddeca",
   "metadata": {},
   "outputs": [],
   "source": [
    "import numpy as np\n",
    "rho_p = qi.DensityMatrix.from_label('+')\n",
    "display(rho_p.draw('latex', prefix='\\\\rho_p = '))\n",
    "gamma_p = rho_p.purity()\n",
    "print(\"State purity: \", np.round(np.real(gamma_p),3))"
   ]
  },
  {
   "cell_type": "markdown",
   "id": "d5f1483f-dffd-4441-bbec-5959c79c9a18",
   "metadata": {},
   "source": [
    "And, for a mixed state, like $\\rho_m = \\frac{1}{2} | 0 \\rangle \\langle 0 | + \\frac{1}{2} | 1 \\rangle \\langle 1 | $, we expect a purity of less than 1:"
   ]
  },
  {
   "cell_type": "code",
   "execution_count": null,
   "id": "e4643e94-94b9-43d9-802a-abffbb09bb0c",
   "metadata": {},
   "outputs": [],
   "source": [
    "rho_m = 1/2*(qi.DensityMatrix.from_label('0') + qi.DensityMatrix.from_label('1'))\n",
    "display(rho_m.draw('latex', prefix='\\\\rho_m = '))\n",
    "gamma_m = rho_m.purity()\n",
    "print(\"State purity: \", np.round(np.real(gamma_m),3))"
   ]
  },
  {
   "cell_type": "code",
   "execution_count": null,
   "id": "cf90b335-8e85-4e65-9fb0-08937a767210",
   "metadata": {},
   "outputs": [],
   "source": [
    "## or from the previous mixed state\n",
    "display(DensityMatrix(mixed_circuit).draw('latex', prefix='\\\\rho_p = '))\n",
    "DensityMatrix(mixed_circuit).purity()"
   ]
  },
  {
   "cell_type": "markdown",
   "id": "42b2938b-2ea1-4c48-8abf-1e7d98caaeff",
   "metadata": {},
   "source": [
    "***NB*** One of the drawbacks of representing the density matrices in terms of ensembles of basis states, is that their outcome is not unique. Understanding that the same density matrix can represent many different ensembles of quantum states is important to avoid drawing conclusions about a particular system simply based on its density matrix representation alone. "
   ]
  },
  {
   "cell_type": "markdown",
   "id": "f97d1784-02a6-4115-b33a-cbc7eecc3efa",
   "metadata": {},
   "source": [
    "### The Reduced Density Matrix\n",
    "When working with the density matrix notation on composite systems, we can extract the state of each subsystem, even if they are entangled. This is done in the form of what is known as the reduced density matrix.\n",
    "\n",
    "Consider a quantum system composed of subsystems $A$ and $B$, and fully described by the density matrix $\\rho_{AB}$. The reduced density matrix of subsystem $A$ is then given by:\n",
    "\n",
    "$$ \\rho_{A} = \\text{Tr}_B(\\rho_{AB}), $$\n",
    "\n",
    "\n",
    "Here, $\\text{Tr}_B$ is an operation known as the partial trace, which is defined as: \n",
    "\n",
    "$$\n",
    "\\text{Tr}_B \\left (| \\xi_u \\rangle \\langle \\xi_v | \\otimes | \\chi_u \\rangle \\langle \\chi_v | \\right ) \\equiv | \\xi_u \\rangle \\langle \\xi_v | \\text{ Tr} \\left ( | \\chi_u \\rangle \\langle \\chi_v | \\right )\n",
    "$$\n",
    "\n",
    "$| \\xi_u \\rangle $ and $| \\xi_v \\rangle $ are arbitrary states in the subspace of $A$, and $| \\chi_u \\rangle $ and $| \\chi_v \\rangle $ arbitrary states in the subspace of $B$. $\\text{Tr}$ is the standard trace operation, which for two arbitrary states $\\text{Tr} \\left ( | \\chi_u \\rangle \\langle \\chi_v | \\right ) = \\langle \\chi_v |\\chi_u \\rangle $. Similarly, we can calculate the reduced density matrix of subsystem $B$ using the partial trace over $A$.\n",
    "\n",
    "As an example, let's reconsider the pure entangled state:\n",
    "\n",
    "$$ | \\psi_{AB} \\rangle = \\frac{1}{\\sqrt{2}} \\left ( | 0_A 0_B \\rangle + | 1_A 1_B \\rangle \\right ) $$\n",
    "\n",
    "\n"
   ]
  },
  {
   "cell_type": "markdown",
   "id": "4819fc8c-f5e1-4797-a0b8-b03481b5677c",
   "metadata": {},
   "source": [
    "This system is then composed of single-qubit subsystem $A$ with basis vectors $ \\left \\{ |\\xi_1 \\rangle, |\\xi_2 \\rangle \\right \\} = \\{ | 0_A \\rangle, | 1_A \\rangle \\}$, and single-qubit subsystem $B$ with basis vectors $ \\left \\{ |\\chi_1 \\rangle, |\\chi_2 \\rangle \\right \\} = \\{ | 0_B \\rangle, | 1_B \\rangle \\}$. We know that this system is not separable (i.e., $| \\chi_{AB} \\rangle \\neq |\\chi_{A}\\rangle \\otimes |\\chi_{B}\\rangle$); however, by using the reduced density matrix, we can find a full description for subsystems $A$ and $B$ as follows.\n",
    "\n",
    "The density matrix of our state $| \\psi_{AB} \\rangle$ can be expressed in terms of outer products of the basis vectors as:\n",
    "\n",
    "$$\n",
    "\\rho_{AB} = | \\psi_{AB} \\rangle \\langle \\psi_{AB} | =  \\frac{1}{2} \\left [ | 0_A 0_B \\rangle \\langle 0_A 0_B | + | 0_A 0_B \\rangle \\langle 1_A 1_B | + | 1_A 1_B \\rangle \\langle 0_A 0_B | + | 1_A 1_B \\rangle \\langle 1_A 1_B | \\right ]\n",
    "$$\n",
    "\n",
    "\n",
    "Now, to calculate the reduced density matrix for, let's say, subsystem $B$, we have:\n",
    "\n",
    "$$\n",
    "\\begin{aligned}\n",
    "\\rho_{B} & = \\text{Tr}_A(\\rho_{AB})\n",
    "\\\\\n",
    "\\\\\n",
    "& = \\frac{1}{2}\\left [ \\text{Tr}_A(| 0_A 0_B \\rangle \\langle 0_A 0_B |) + \\text{Tr}_A(| 0_A 0_B \\rangle \\langle 1_A 1_B |) + \\text{Tr}_A(| 1_A 1_B \\rangle \\langle 0_A 0_B |) + \\text{Tr}_A(| 1_A 1_B \\rangle \\langle 1_A 1_B |) \\right ]\n",
    "\\\\\n",
    "\\\\\n",
    "& = \\frac{1}{2}\\left [ \\text{Tr}(| 0_A \\rangle \\langle 0_A |)| 0_B \\rangle \\langle 0_B | + \\text{Tr}(| 0_A \\rangle \\langle 1_A |)| 0_B \\rangle \\langle 1_B | + \\text{Tr}(| 1_A \\rangle \\langle 0_A |) | 1_B \\rangle \\langle 0_B | + \\text{Tr}(| 1_A \\rangle \\langle 1_A |) | 1_B \\rangle \\langle 1_B | \\right ]\n",
    "\\\\\n",
    "\\\\\n",
    "& = \\frac{1}{2}\\left [ \\langle 0_A | 0_A \\rangle | 0_B \\rangle \\langle 0_B | + \\langle 1_A | 0_A \\rangle | 0_B \\rangle \\langle 1_B | + \\langle 0_A | 1_A \\rangle | 1_B \\rangle \\langle 0_B | + \\langle 1_A | 1_A \\rangle | 1_B \\rangle \\langle 1_B | \\right ]\n",
    "\\\\\n",
    "\\\\\n",
    "& = \\frac{1}{2}\\left [ | 0_B \\rangle \\langle 0_B | + | 1_B \\rangle \\langle 1_B | \\right ]\n",
    "\\\\\n",
    "\\\\\n",
    "&= \\frac{1}{2} \\begin{bmatrix} 1 & 0 \\\\ 0 & 1 \\end{bmatrix} \n",
    "\\end{aligned}\n",
    "$$\n",
    "\n"
   ]
  },
  {
   "cell_type": "code",
   "execution_count": null,
   "id": "56e89085-466e-4547-bcf0-be074aab0856",
   "metadata": {},
   "outputs": [],
   "source": [
    "rho_B = qi.partial_trace(rho_AB,[0])\n",
    "rho_A = qi.partial_trace(rho_AB,[1])\n",
    "\n",
    "display(rho_B.draw('latex', prefix=\" \\\\rho_{B} = \"),\n",
    "        rho_A.draw('latex', prefix=\" \\\\rho_{A} = \"))"
   ]
  },
  {
   "cell_type": "code",
   "execution_count": null,
   "id": "2181ef0e-7038-4932-978c-c01452089ce0",
   "metadata": {},
   "outputs": [],
   "source": [
    "# Create a two-qubit entangled state (Bell state) for partial trace demonstration\n",
    "entangled_circuit = QuantumCircuit(2)\n",
    "entangled_circuit.h(0)\n",
    "entangled_circuit.cx(0, 1)\n",
    "\n",
    "# Get the statevector and compute partial trace to isolate one qubit\n",
    "state = Statevector.from_instruction(entangled_circuit)\n",
    "reduced_density_matrix = partial_trace(state, [1])\n",
    "print(\"Reduced density matrix after tracing out one qubit:\")\n",
    "print(reduced_density_matrix)\n"
   ]
  },
  {
   "cell_type": "markdown",
   "id": "ecfbb1f8-f396-4619-862c-f0575566869e",
   "metadata": {},
   "source": [
    "**Entropy of a state** \n",
    "- Entropy is a measure of uncertainty. Pure states have zero entropy, while mixed states have non-zero entropy."
   ]
  },
  {
   "cell_type": "code",
   "execution_count": null,
   "id": "0ced766b-311e-47aa-b8f2-2012b8fbbb33",
   "metadata": {},
   "outputs": [],
   "source": [
    "# Calculate entropy using Qiskit's entropy function\n",
    "pure_entropy = entropy(state)\n",
    "print(\"Entropy of pure state:\", pure_entropy)\n",
    "\n",
    "mixed_entropy = entropy(DensityMatrix(rho_m))\n",
    "                        \n",
    "print(\"Entropy of mixed state:\", mixed_entropy)\n"
   ]
  },
  {
   "cell_type": "markdown",
   "id": "80c34c78-c832-4f4b-89f0-af86ff0ae79e",
   "metadata": {},
   "source": [
    "see here for all methods https://docs.quantum.ibm.com/api/qiskit/quantum_info"
   ]
  },
  {
   "cell_type": "markdown",
   "id": "5a64929e-4ca9-416a-a9cf-4b68b6cff4b1",
   "metadata": {},
   "source": [
    "**Verifying Unitarity of Quantum Operations**\n",
    "\n",
    "In quantum mechanics, a matrix is unitary if its inverse is equal to its conjugate transpose:\n",
    "<n>$U^{\\dagger}U =1 $ <n/>\n",
    "\n",
    "\n",
    "We can check if a matrix is unitary by confirming that $U^{\\dagger}U =1 $ is equal to the identity matrix."
   ]
  },
  {
   "cell_type": "code",
   "execution_count": null,
   "id": "dc859730-7cd9-48ac-a6af-ccabed8e2762",
   "metadata": {},
   "outputs": [],
   "source": [
    "import numpy as np\n",
    "from qiskit.quantum_info import Operator\n",
    "from qiskit.circuit.library import HGate\n",
    "\n",
    "# Get the matrix representation of the Hadamard gate\n",
    "h_gate = Operator(HGate()).data\n",
    "\n",
    "# Calculate U† * U\n",
    "unitarity_check = np.allclose(h_gate.conj().T @ h_gate, np.eye(2))\n",
    "\n",
    "print(\"Matrix representation of the H gate:\")\n",
    "print(h_gate)\n",
    "\n",
    "print(\"\\nIs the H gate unitary?\")\n",
    "print(unitarity_check)  # Expected output: True\n"
   ]
  },
  {
   "cell_type": "code",
   "execution_count": null,
   "id": "bd0e026f-5078-44cb-96c5-3bd429498941",
   "metadata": {},
   "outputs": [],
   "source": [
    "# Example with a non-unitary operator (like a measurement projector)\n",
    "non_unitary_matrix = np.array([[1, 0], [0, 0]])  # Measurement projector\n",
    "unitarity_check_non_unitary = np.allclose(non_unitary_matrix.conj().T @ non_unitary_matrix, np.eye(2))\n",
    "print(\"Is the measurement projector unitary?\", unitarity_check_non_unitary)"
   ]
  },
  {
   "cell_type": "markdown",
   "id": "7205dfa1-f9d9-4c00-804e-86cba9547db5",
   "metadata": {},
   "source": [
    "### Hands-On with PennyLane\n",
    "**1. Verifying Unitarity in PennyLane** \n"
   ]
  },
  {
   "cell_type": "code",
   "execution_count": null,
   "id": "d054195c-3c94-4f00-a724-b83527c2ad23",
   "metadata": {},
   "outputs": [],
   "source": [
    "import pennylane as qml\n",
    "from pennylane import numpy as np\n",
    "\n",
    "# Retrieve the matrix representation of the Hadamard gate\n",
    "h_gate_matrix = qml.matrix(qml.Hadamard(wires=0))\n",
    "\n",
    "# Check unitarity: U† * U should be the identity matrix\n",
    "unitarity_check = np.allclose(h_gate_matrix.conj().T @ h_gate_matrix, np.eye(2))\n",
    "\n",
    "print(\"Matrix representation of the Hadamard gate:\")\n",
    "print(h_gate_matrix)\n",
    "\n",
    "print(\"\\nIs the Hadamard gate unitary?\")\n",
    "print(unitarity_check)  # Expected: True\n",
    "\n"
   ]
  },
  {
   "cell_type": "markdown",
   "id": "05821113-bd76-42aa-b41f-19c3a659fda1",
   "metadata": {},
   "source": [
    "**2. Mixed State Example with Entropy and Partial Trace**\n",
    "\n",
    "Noise models such as depolarizing_error are not included in PennyLane's core. Instead, noise can be applied using the \"default.mixed\" device, which includes noise channels as part of the library. \n",
    "\n",
    "**Generating a Mixed State**"
   ]
  },
  {
   "cell_type": "code",
   "execution_count": null,
   "id": "7e8b7b20-63e2-4012-a8ac-43aee2f02b4b",
   "metadata": {},
   "outputs": [],
   "source": [
    "# Define a device that supports mixed states\n",
    "dev = qml.device(\"default.mixed\", wires=1)\n",
    "\n",
    "@qml.qnode(dev)\n",
    "def mixed_state_circuit():\n",
    "    qml.Hadamard(wires=0)  # Create a superposition state\n",
    "    qml.DepolarizingChannel(0.3, wires=0)  # Apply depolarizing noise\n",
    "    return qml.density_matrix(wires=[0])\n",
    "\n",
    "# Retrieve the density matrix\n",
    "mixed_state = mixed_state_circuit()\n",
    "print(\"Density matrix of the mixed state:\")\n",
    "print(mixed_state)\n"
   ]
  },
  {
   "cell_type": "markdown",
   "id": "ce63e489-e392-4778-b4f8-ca7ea69d83a5",
   "metadata": {},
   "source": [
    "**Calculating the Entropy of the Mixed State**\n",
    "\n",
    "Since PennyLane doesn’t have direct entropy and partial trace methods, we calculate them manually.\n",
    "\n",
    "***Entropy Calculation (Von Neumann Entropy)***\n",
    "\n",
    "The entropy $S(\\rho) = - Tr(\\rho \\log \\rho) $"
   ]
  },
  {
   "cell_type": "code",
   "execution_count": null,
   "id": "c1719cc2-e57a-4884-b6be-b88fc4052f89",
   "metadata": {},
   "outputs": [],
   "source": [
    "# Calculate entropy of the mixed state\n",
    "eigenvalues = np.linalg.eigvals(mixed_state)\n",
    "entropy = -np.sum(eigenvalues * np.log2(eigenvalues + 1e-10))  # Avoid log(0) with small epsilon\n",
    "print(\"\\nEntropy of the mixed state:\")\n",
    "print(entropy)\n"
   ]
  },
  {
   "cell_type": "markdown",
   "id": "50635bb3-0528-4227-a169-d315744d299d",
   "metadata": {},
   "source": [
    "**Partial Trace Calculation: Reducing a Composite State** \n",
    "\n",
    "Let’s calculate the partial trace of a two-qubit system to isolate one subsystem."
   ]
  },
  {
   "cell_type": "code",
   "execution_count": null,
   "id": "787eeb2a-c08f-476e-8fa1-b1b32c18dbcd",
   "metadata": {},
   "outputs": [],
   "source": [
    "# Define a two-qubit device\n",
    "dev = qml.device(\"default.mixed\", wires=2)\n",
    "\n",
    "@qml.qnode(dev)\n",
    "def entangled_circuit():\n",
    "    qml.Hadamard(wires=0)\n",
    "    qml.CNOT(wires=[0, 1])  # Create an entangled Bell state\n",
    "    return qml.density_matrix(wires=[0, 1])\n",
    "\n",
    "dm_entangled = entangled_circuit()\n",
    "print(\"\\nDensity matrix of the entangled state:\")\n",
    "print(dm_entangled)\n",
    "\n",
    "# Function to compute partial trace\n",
    "def partial_trace(density_matrix, subsystem_dim):\n",
    "    \"\"\"\n",
    "    Partial trace over the first subsystem.\n",
    "    Assuming a 2x2 subsystem.\n",
    "    \"\"\"\n",
    "    reduced_dm = np.zeros((2, 2), dtype=complex)\n",
    "    for i in range(2):\n",
    "        for j in range(2):\n",
    "            reduced_dm[i, j] = density_matrix[i*subsystem_dim + j, i*subsystem_dim + j]\n",
    "    return reduced_dm\n",
    "\n",
    "# Partial trace to isolate one subsystem\n",
    "reduced_dm = partial_trace(dm_entangled, subsystem_dim=2)\n",
    "print(\"\\nReduced density matrix after partial trace:\")\n",
    "print(reduced_dm)\n"
   ]
  },
  {
   "cell_type": "markdown",
   "id": "2bce06fa-1ce8-4479-b9ed-cc9c7a39da9f",
   "metadata": {},
   "source": [
    "#### Extra on observables and their properties\n",
    "\n",
    "When we use ***commuting observables*** in quantum mechanics, it has several important consequences:\n",
    "\n",
    "1. **Simultaneous Measurement**: Observables that commute can be measured simultaneously without affecting each other's outcomes. For example, if two observables A and B commute, measuring A does not disturb B and vice versa.\n",
    "2. **Shared Eigenbasis**: Commuting observables share a common set of eigenstates. This means that there is a basis in which both observables are diagonal, simplifying the analysis and interpretation of the system.\n",
    "3. **Compatibility of Observables**: In quantum mechanics, observables that commute are considered compatible, meaning their measurements are independent of the measurement order."
   ]
  },
  {
   "cell_type": "markdown",
   "id": "78c1dc74-fe07-4c35-83e8-008d736869bd",
   "metadata": {},
   "source": [
    "In `Qiskit` and `PennyLane`, we can test commutativity of observables by checking whether their commutator is zero. The commutator of two operators A and B is defined as:\n",
    "\n",
    "$[A,B] = AB - BA $\n",
    "\n",
    "If this commutator is zero, i.e. $AB=BA $ the operators commute.\n",
    "\n",
    "***Example: Testing Commutativity of Pauli Operators***\n",
    "\n",
    "Let's use the Pauli operators X, Y, and Z as our observables. We know that:\n",
    "\n",
    "* Pauli X and Y do not commute: $[X,Y]\\neq 0 $\n",
    "* Pauli X and Z do not commute: $[X,Z]\\neq 0 $\n",
    "* Pauli Z and Z commute trivially with each other: $[Z,Z]\\neq 0 $\n",
    "\n",
    "  Here’s how to test for commutativity:\n"
   ]
  },
  {
   "cell_type": "code",
   "execution_count": null,
   "id": "fed2092b-933b-44f5-aab4-e97ac62b7aab",
   "metadata": {},
   "outputs": [],
   "source": [
    "import numpy as np\n",
    "from qiskit.quantum_info import Operator\n",
    "\n",
    "# Define Pauli matrices\n",
    "X = np.array([[0, 1], [1, 0]])\n",
    "Y = np.array([[0, -1j], [1j, 0]])\n",
    "Z = np.array([[1, 0], [0, -1]])\n",
    "\n",
    "# Function to check commutativity\n",
    "def is_commuting(A, B):\n",
    "    commutator = np.dot(A, B) - np.dot(B, A)\n",
    "    return np.allclose(commutator, np.zeros_like(commutator))\n",
    "\n",
    "# Test commutativity between Pauli X and Y\n",
    "print(\"Do X and Y commute?\", is_commuting(X, Y))  # Expected: False\n",
    "\n",
    "# Test commutativity between Pauli X and Z\n",
    "print(\"Do X and Z commute?\", is_commuting(X, Z))  # Expected: False\n",
    "\n",
    "# Test commutativity between Pauli Z and Z\n",
    "print(\"Do Z and Z commute?\", is_commuting(Z, Z))  # Expected: True\n"
   ]
  },
  {
   "cell_type": "markdown",
   "id": "960e1de5-6acf-4546-866e-4d30d82198ba",
   "metadata": {},
   "source": [
    "**Measuring Commuting Observables Simultaneously**\n",
    "\n",
    "When observables commute, we can measure them simultaneously on a shared eigenbasis. Let's look at an example using Qiskit where we set up a circuit with commuting observables, such as measuring Z on two different qubits.\n",
    "\n",
    "***Example: Measuring Commuting Observables*** $ Z \\otimes Z$"
   ]
  },
  {
   "cell_type": "code",
   "execution_count": null,
   "id": "77aa1a60-6e7e-41d2-a73f-0981b4ff2e25",
   "metadata": {},
   "outputs": [],
   "source": [
    "from qiskit import QuantumCircuit\n",
    "from qiskit.visualization import plot_histogram\n",
    "\n",
    "# Create a 2-qubit circuit with Z-measurements on both qubits\n",
    "qc = QuantumCircuit(2, 2)\n",
    "qc.h(0)           # Create superposition on the first qubit\n",
    "qc.cx(0, 1)       # Create entanglement between qubits\n",
    "qc.measure([0, 1], [0, 1])  # Measure both qubits in the computational (Z) basis\n",
    "\n",
    "# Simulate and visualize results\n",
    "backend = AerSimulator(method = 'automatic')\n",
    "\n",
    "job = backend.run(qc, shots=1000)\n",
    "counts = job.result().get_counts(0)\n",
    "print(\"Measurement results for Z ⊗ Z observable:\")\n",
    "plot_histogram(counts)\n"
   ]
  },
  {
   "cell_type": "markdown",
   "id": "3335d5ff-4b0d-4623-9ae4-c3a00c9e984c",
   "metadata": {},
   "source": [
    "Since the `Z-measurements` on each qubit commute, we can measure them simultaneously and interpret the results. You should observe that outcomes are correlated, as the qubits share a common eigenbasis due to entanglement."
   ]
  },
  {
   "cell_type": "markdown",
   "id": "21eeb7d0-1034-4877-9969-1d6dbbba6a72",
   "metadata": {},
   "source": [
    "**Summary of Steps**\n",
    "\n",
    "* Define Observables: Set up matrices or operators for the observables you want to test.\n",
    "* Check Commutativity: Calculate the commutator between the observables and check if it’s zero.\n",
    "* Measure Simultaneously (if Commuting): If observables commute, measure them on a shared eigenbasis in a quantum circuit and verify that the results align with the expected simultaneous measurement behavior.\n",
    "\n",
    "\n",
    "This approach can be extended to larger systems and more complex observables."
   ]
  },
  {
   "cell_type": "markdown",
   "id": "3db74dbe-e792-4440-835a-f365083e72a3",
   "metadata": {},
   "source": [
    "### Extra: How to use Qiskit 1.0 with PennyLane\n",
    "\n",
    "The PennyLane-Qiskit plugin enables you to integrate your existing Qiskit code and run circuits on IBM devices with PennyLane. See https://pennylane.ai/qml/demos/how_to_use_qiskit1_with_pennylane for further details."
   ]
  },
  {
   "cell_type": "code",
   "execution_count": null,
   "id": "f5e28ebf-155a-4585-a729-087ed5c72ddb",
   "metadata": {},
   "outputs": [],
   "source": []
  }
 ],
 "metadata": {
  "kernelspec": {
   "display_name": "Python 3 (ipykernel)",
   "language": "python",
   "name": "python3"
  },
  "language_info": {
   "codemirror_mode": {
    "name": "ipython",
    "version": 3
   },
   "file_extension": ".py",
   "mimetype": "text/x-python",
   "name": "python",
   "nbconvert_exporter": "python",
   "pygments_lexer": "ipython3",
   "version": "3.10.15"
  }
 },
 "nbformat": 4,
 "nbformat_minor": 5
}
